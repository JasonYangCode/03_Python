{
 "cells": [
  {
   "cell_type": "markdown",
   "metadata": {},
   "source": [
    "Pandas具有全功能的，高性能内存中连接操作，与SQL等关系数据库非常相似\n",
    "\n",
    "* pd.merge(left, right, how='inner', on=None, left_on=None, right_on=None,left_index=False, right_index=False, sort=True,suffixes=('_x', '_y'), copy=True, indicator=False)        \n",
    "* pd.concat(objs, axis=0, join='outer', join_axes=None, ignore_index=False,keys=None, levels=None, names=None, verify_integrity=False,copy=True)\n",
    "* .replace()\n",
    "* .duplicated()"
   ]
  },
  {
   "cell_type": "code",
   "execution_count": 1,
   "metadata": {},
   "outputs": [],
   "source": [
    "import numpy as np\n",
    "import pandas as pd  \n",
    "# 导入numpy、pandas模块"
   ]
  },
  {
   "cell_type": "code",
   "execution_count": 2,
   "metadata": {},
   "outputs": [
    {
     "name": "stdout",
     "output_type": "stream",
     "text": [
      "  key   A   B   C   D\n",
      "0  K0  A0  B0  C0  D0\n",
      "1  K1  A1  B1  C1  D1\n",
      "2  K2  A2  B2  C2  D2\n",
      "3  K3  A3  B3  C3  D3\n"
     ]
    }
   ],
   "source": [
    "df1 = pd.DataFrame({'key': ['K0', 'K1', 'K2', 'K3'],\n",
    "                     'A': ['A0', 'A1', 'A2', 'A3'],\n",
    "                     'B': ['B0', 'B1', 'B2', 'B3']})\n",
    "df2 = pd.DataFrame({'key': ['K0', 'K1', 'K2', 'K3'],\n",
    "                      'C': ['C0', 'C1', 'C2', 'C3'],\n",
    "                      'D': ['D0', 'D1', 'D2', 'D3']})\n",
    "print(pd.merge(df1, df2, on='key'))"
   ]
  },
  {
   "cell_type": "code",
   "execution_count": 2,
   "metadata": {},
   "outputs": [
    {
     "name": "stdout",
     "output_type": "stream",
     "text": [
      "    A   B key   C   D\n",
      "0  A0  B0  K0  C0  D0\n",
      "1  A1  B1  K1  C1  D1\n",
      "2  A2  B2  K2  C2  D2\n",
      "3  A3  B3  K3  C3  D3\n",
      "------\n",
      "    A   B key1 key2   C   D\n",
      "0  A0  B0   K0   K0  C0  D0\n",
      "1  A2  B2   K1   K0  C1  D1\n",
      "2  A2  B2   K1   K0  C2  D2\n"
     ]
    }
   ],
   "source": [
    "# merge合并 → 类似excel的vlookup\n",
    "\n",
    "df1 = pd.DataFrame({'key': ['K0', 'K1', 'K2', 'K3'],\n",
    "                     'A': ['A0', 'A1', 'A2', 'A3'],\n",
    "                     'B': ['B0', 'B1', 'B2', 'B3']})\n",
    "df2 = pd.DataFrame({'key': ['K0', 'K1', 'K2', 'K3'],\n",
    "                      'C': ['C0', 'C1', 'C2', 'C3'],\n",
    "                      'D': ['D0', 'D1', 'D2', 'D3']})\n",
    "df3 = pd.DataFrame({'key1': ['K0', 'K0', 'K1', 'K2'],\n",
    "                    'key2': ['K0', 'K1', 'K0', 'K1'],\n",
    "                    'A': ['A0', 'A1', 'A2', 'A3'],\n",
    "                    'B': ['B0', 'B1', 'B2', 'B3']})\n",
    "df4 = pd.DataFrame({'key1': ['K0', 'K1', 'K1', 'K2'],\n",
    "                    'key2': ['K0', 'K0', 'K0', 'K0'],\n",
    "                    'C': ['C0', 'C1', 'C2', 'C3'],\n",
    "                    'D': ['D0', 'D1', 'D2', 'D3']})\n",
    "print(pd.merge(df1, df2, on='key'))\n",
    "print('------')\n",
    "# left：第一个df\n",
    "# right：第二个df\n",
    "# on：参考键\n",
    "\n",
    "print(pd.merge(df3, df4, on=['key1','key2']))\n",
    "# 多个链接键"
   ]
  },
  {
   "cell_type": "code",
   "execution_count": 3,
   "metadata": {},
   "outputs": [
    {
     "name": "stdout",
     "output_type": "stream",
     "text": [
      "    A   B key1 key2   C   D\n",
      "0  A0  B0   K0   K0  C0  D0\n",
      "1  A2  B2   K1   K0  C1  D1\n",
      "2  A2  B2   K1   K0  C2  D2\n",
      "------\n",
      "     A    B key1 key2    C    D\n",
      "0   A0   B0   K0   K0   C0   D0\n",
      "1   A1   B1   K0   K1  NaN  NaN\n",
      "2   A2   B2   K1   K0   C1   D1\n",
      "3   A2   B2   K1   K0   C2   D2\n",
      "4   A3   B3   K2   K1  NaN  NaN\n",
      "5  NaN  NaN   K2   K0   C3   D3\n",
      "------\n",
      "    A   B key1 key2    C    D\n",
      "0  A0  B0   K0   K0   C0   D0\n",
      "1  A1  B1   K0   K1  NaN  NaN\n",
      "2  A2  B2   K1   K0   C1   D1\n",
      "3  A2  B2   K1   K0   C2   D2\n",
      "4  A3  B3   K2   K1  NaN  NaN\n",
      "------\n",
      "     A    B key1 key2   C   D\n",
      "0   A0   B0   K0   K0  C0  D0\n",
      "1   A2   B2   K1   K0  C1  D1\n",
      "2   A2   B2   K1   K0  C2  D2\n",
      "3  NaN  NaN   K2   K0  C3  D3\n"
     ]
    }
   ],
   "source": [
    "# 参数how → 合并方式\n",
    "\n",
    "print(pd.merge(df3, df4,on=['key1','key2'], how = 'inner'))  \n",
    "print('------')\n",
    "# inner：默认，取交集\n",
    "\n",
    "print(pd.merge(df3, df4, on=['key1','key2'], how = 'outer'))  \n",
    "print('------')\n",
    "# outer：取并集，数据缺失范围NaN\n",
    "\n",
    "print(pd.merge(df3, df4, on=['key1','key2'], how = 'left'))  \n",
    "print('------')\n",
    "# left：按照df3为参考合并，数据缺失范围NaN\n",
    "\n",
    "print(pd.merge(df3, df4, on=['key1','key2'], how = 'right'))  \n",
    "# right：按照df4为参考合并，数据缺失范围NaN"
   ]
  },
  {
   "cell_type": "code",
   "execution_count": 4,
   "metadata": {},
   "outputs": [
    {
     "name": "stdout",
     "output_type": "stream",
     "text": [
      "   data1 lkey  date2 rkey\n",
      "0      0    b      1    b\n",
      "1      1    b      1    b\n",
      "2      6    b      1    b\n",
      "3      2    a      0    a\n",
      "4      4    a      0    a\n",
      "5      5    a      0    a\n",
      "------\n",
      "   data1 key  date2\n",
      "0      0   a    100\n",
      "1      1   b    101\n",
      "2      2   c    102\n",
      "3      3   d    103\n",
      "5      5   e    104\n"
     ]
    }
   ],
   "source": [
    "# 参数 left_on, right_on, left_index, right_index → 当键不为一个列时，可以单独设置左键与右键\n",
    "\n",
    "df1 = pd.DataFrame({'lkey':list('bbacaab'),\n",
    "                   'data1':range(7)})\n",
    "df2 = pd.DataFrame({'rkey':list('abd'),\n",
    "                   'date2':range(3)})\n",
    "print(pd.merge(df1, df2, left_on='lkey', right_on='rkey'))\n",
    "print('------')\n",
    "# df1以‘lkey’为键，df2以‘rkey’为键\n",
    "\n",
    "df1 = pd.DataFrame({'key':list('abcdfeg'),\n",
    "                   'data1':range(7)})\n",
    "df2 = pd.DataFrame({'date2':range(100,105)},\n",
    "                  index = list('abcde'))\n",
    "print(pd.merge(df1, df2, left_on='key', right_index=True))\n",
    "# df1以‘key’为键，df2以index为键\n",
    "# left_index：为True时，第一个df以index为键，默认False\n",
    "# right_index：为True时，第二个df以index为键，默认False\n",
    "\n",
    "# 所以left_on, right_on, left_index, right_index可以相互组合：\n",
    "# left_on + right_on, left_on + right_index, left_index + right_on, left_index + right_index"
   ]
  },
  {
   "cell_type": "code",
   "execution_count": 5,
   "metadata": {},
   "outputs": [
    {
     "name": "stdout",
     "output_type": "stream",
     "text": [
      "0    1\n",
      "1    2\n",
      "2    3\n",
      "0    2\n",
      "1    3\n",
      "2    4\n",
      "dtype: int64\n",
      "-----\n",
      "a    1\n",
      "b    2\n",
      "c    2\n",
      "d    4\n",
      "e    3\n",
      "h    3\n",
      "dtype: int64\n",
      "     0    1\n",
      "a  1.0  NaN\n",
      "b  NaN  2.0\n",
      "c  2.0  NaN\n",
      "d  NaN  4.0\n",
      "e  NaN  3.0\n",
      "h  3.0  NaN\n",
      "-----\n"
     ]
    },
    {
     "name": "stderr",
     "output_type": "stream",
     "text": [
      "C:\\Users\\iHJX_Alienware\\Anaconda3\\lib\\site-packages\\ipykernel\\__main__.py:12: FutureWarning: Sorting because non-concatenation axis is not aligned. A future version\n",
      "of pandas will change to not sort by default.\n",
      "\n",
      "To accept the future behavior, pass 'sort=False'.\n",
      "\n",
      "To retain the current behavior and silence the warning, pass 'sort=True'.\n",
      "\n"
     ]
    }
   ],
   "source": [
    "# 连接：concat\n",
    "\n",
    "s1 = pd.Series([1,2,3])\n",
    "s2 = pd.Series([2,3,4])\n",
    "print(pd.concat([s1,s2]))\n",
    "print('-----')\n",
    "# 默认axis=0，行+行\n",
    "\n",
    "s3 = pd.Series([1,2,3],index = ['a','c','h'])\n",
    "s4 = pd.Series([2,3,4],index = ['b','e','d'])\n",
    "print(pd.concat([s3,s4]).sort_index())\n",
    "print(pd.concat([s3,s4], axis=1))\n",
    "print('-----')\n",
    "# axis=1,列+列，成为一个Dataframe"
   ]
  },
  {
   "cell_type": "code",
   "execution_count": 6,
   "metadata": {},
   "outputs": [
    {
     "name": "stdout",
     "output_type": "stream",
     "text": [
      "0     False\n",
      "1      True\n",
      "2      True\n",
      "3      True\n",
      "4     False\n",
      "5      True\n",
      "6      True\n",
      "7     False\n",
      "8     False\n",
      "9     False\n",
      "10     True\n",
      "11     True\n",
      "12     True\n",
      "dtype: bool\n",
      "0    1\n",
      "4    2\n",
      "7    3\n",
      "8    4\n",
      "9    5\n",
      "dtype: int64\n",
      "-----\n",
      "0    1\n",
      "4    2\n",
      "7    3\n",
      "8    4\n",
      "9    5\n",
      "dtype: int64\n",
      "-----\n",
      "0    False\n",
      "1     True\n",
      "2    False\n",
      "3    False\n",
      "4    False\n",
      "dtype: bool\n",
      "0    False\n",
      "1     True\n",
      "2    False\n",
      "3     True\n",
      "4    False\n",
      "Name: key2, dtype: bool\n"
     ]
    }
   ],
   "source": [
    "# 去重 .duplicated\n",
    "\n",
    "s = pd.Series([1,1,1,1,2,2,2,3,4,5,5,5,5])\n",
    "print(s.duplicated())\n",
    "print(s[s.duplicated() == False])\n",
    "print('-----')\n",
    "# 判断是否重复\n",
    "# 通过布尔判断，得到不重复的值\n",
    "\n",
    "s_re = s.drop_duplicates()\n",
    "print(s_re)\n",
    "print('-----')\n",
    "# drop.duplicates移除重复\n",
    "# inplace参数：是否替换原值，默认False\n",
    "\n",
    "df = pd.DataFrame({'key1':['a','a',3,4,5],\n",
    "                  'key2':['a','a','b','b','c']})\n",
    "print(df.duplicated())\n",
    "print(df['key2'].duplicated())\n",
    "# Dataframe中使用duplicated"
   ]
  },
  {
   "cell_type": "code",
   "execution_count": 7,
   "metadata": {},
   "outputs": [
    {
     "name": "stdout",
     "output_type": "stream",
     "text": [
      "0    NaN\n",
      "1      s\n",
      "2      c\n",
      "3    NaN\n",
      "4    NaN\n",
      "5      z\n",
      "6      s\n",
      "7      d\n",
      "dtype: object\n",
      "0    NaN\n",
      "1    NaN\n",
      "2      c\n",
      "3    NaN\n",
      "4    NaN\n",
      "5      z\n",
      "6    NaN\n",
      "7      d\n",
      "dtype: object\n",
      "0    hello world!\n",
      "1             123\n",
      "2               c\n",
      "3    hello world!\n",
      "4    hello world!\n",
      "5               z\n",
      "6             123\n",
      "7               d\n",
      "dtype: object\n"
     ]
    }
   ],
   "source": [
    "# 替换 .replace\n",
    "\n",
    "s = pd.Series(list('ascaazsd'))\n",
    "print(s.replace('a', np.nan))\n",
    "print(s.replace(['a','s'] ,np.nan))\n",
    "print(s.replace({'a':'hello world!','s':123}))\n",
    "# 可一次性替换一个值或多个值\n",
    "# 可传入列表或字典"
   ]
  }
 ],
 "metadata": {
  "anaconda-cloud": {},
  "kernelspec": {
   "display_name": "Python 3",
   "language": "python",
   "name": "python3"
  },
  "language_info": {
   "codemirror_mode": {
    "name": "ipython",
    "version": 3
   },
   "file_extension": ".py",
   "mimetype": "text/x-python",
   "name": "python",
   "nbconvert_exporter": "python",
   "pygments_lexer": "ipython3",
   "version": "3.7.4"
  }
 },
 "nbformat": 4,
 "nbformat_minor": 1
}
